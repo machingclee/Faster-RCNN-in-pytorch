{
 "cells": [
  {
   "cell_type": "code",
   "execution_count": 4,
   "id": "0aa5339d-f806-47a9-8e28-3e693f68c021",
   "metadata": {},
   "outputs": [],
   "source": [
    "import torch\n",
    "import numpy as np"
   ]
  },
  {
   "cell_type": "code",
   "execution_count": 15,
   "id": "67be6a11-c1de-4227-beb1-4c28274f01b8",
   "metadata": {},
   "outputs": [],
   "source": [
    "a = torch.as_tensor([1,2,3])\n",
    "b = torch.as_tensor([3,2,1])"
   ]
  },
  {
   "cell_type": "code",
   "execution_count": 16,
   "id": "1dcf16a3-c732-4def-85dd-8a3f79ba23f7",
   "metadata": {},
   "outputs": [
    {
     "name": "stderr",
     "output_type": "stream",
     "text": [
      "C:\\Users\\user\\anaconda3\\envs\\dl\\lib\\site-packages\\torch\\functional.py:568: UserWarning: torch.meshgrid: in an upcoming release, it will be required to pass the indexing argument. (Triggered internally at  C:\\cb\\pytorch_1000000000000\\work\\aten\\src\\ATen\\native\\TensorShape.cpp:2228.)\n",
      "  return _VF.meshgrid(tensors, **kwargs)  # type: ignore[attr-defined]\n"
     ]
    }
   ],
   "source": [
    "A, B = torch.meshgrid(a, b)"
   ]
  },
  {
   "cell_type": "code",
   "execution_count": 17,
   "id": "fb076247-a2d5-4141-af82-a44e2f24cabd",
   "metadata": {},
   "outputs": [
    {
     "data": {
      "text/plain": [
       "tensor([[1, 1, 1],\n",
       "        [2, 2, 2],\n",
       "        [3, 3, 3]])"
      ]
     },
     "execution_count": 17,
     "metadata": {},
     "output_type": "execute_result"
    }
   ],
   "source": [
    "A"
   ]
  },
  {
   "cell_type": "code",
   "execution_count": 18,
   "id": "09094a20-e029-472b-a181-019eea252ede",
   "metadata": {},
   "outputs": [
    {
     "data": {
      "text/plain": [
       "tensor([[3, 2, 1],\n",
       "        [3, 2, 1],\n",
       "        [3, 2, 1]])"
      ]
     },
     "execution_count": 18,
     "metadata": {},
     "output_type": "execute_result"
    }
   ],
   "source": [
    "B"
   ]
  },
  {
   "cell_type": "code",
   "execution_count": 24,
   "id": "7275f79c-f1f0-48f5-a9c6-e3155f3138ea",
   "metadata": {},
   "outputs": [],
   "source": [
    "C = torch.cat([A[...,None], B[...,None]], dim=-1)"
   ]
  },
  {
   "cell_type": "code",
   "execution_count": 25,
   "id": "bc7b8631-a4dd-4bff-950b-98b251bcf977",
   "metadata": {},
   "outputs": [
    {
     "data": {
      "text/plain": [
       "tensor([[1, 3],\n",
       "        [1, 2],\n",
       "        [1, 1],\n",
       "        [2, 3],\n",
       "        [2, 2],\n",
       "        [2, 1],\n",
       "        [3, 3],\n",
       "        [3, 2],\n",
       "        [3, 1]])"
      ]
     },
     "execution_count": 25,
     "metadata": {},
     "output_type": "execute_result"
    }
   ],
   "source": [
    "C.view(-1, 2)"
   ]
  },
  {
   "cell_type": "code",
   "execution_count": 29,
   "id": "c34d905a-e627-4dd0-8880-b43a100aed10",
   "metadata": {},
   "outputs": [
    {
     "data": {
      "text/plain": [
       "array([ True])"
      ]
     },
     "execution_count": 29,
     "metadata": {},
     "output_type": "execute_result"
    }
   ],
   "source": [
    "np.array([True])*np.array([True])"
   ]
  },
  {
   "cell_type": "code",
   "execution_count": null,
   "id": "68410605-6896-4486-ace7-ac121f476536",
   "metadata": {},
   "outputs": [],
   "source": []
  }
 ],
 "metadata": {
  "kernelspec": {
   "display_name": "dl",
   "language": "python",
   "name": "dl"
  },
  "language_info": {
   "codemirror_mode": {
    "name": "ipython",
    "version": 3
   },
   "file_extension": ".py",
   "mimetype": "text/x-python",
   "name": "python",
   "nbconvert_exporter": "python",
   "pygments_lexer": "ipython3",
   "version": "3.8.13"
  }
 },
 "nbformat": 4,
 "nbformat_minor": 5
}
